{
 "cells": [
  {
   "cell_type": "markdown",
   "metadata": {},
   "source": [
    "# MD5"
   ]
  },
  {
   "cell_type": "code",
   "execution_count": 1,
   "metadata": {},
   "outputs": [],
   "source": [
    "import hashlib\n",
    "from datetime import datetime"
   ]
  },
  {
   "cell_type": "code",
   "execution_count": 2,
   "metadata": {},
   "outputs": [
    {
     "name": "stdout",
     "output_type": "stream",
     "text": [
      "The hexadecimal equivalent hash is: e807f1fcf82d132f9bb018ca6738a19f\n",
      "time taken by MD5:  0:00:00\n"
     ]
    }
   ],
   "source": [
    "# MD5 Test String: 1234567890\n",
    "\n",
    "str2hash = \"1234567890\"\n",
    "t1 = datetime.now()\n",
    "\n",
    "result = hashlib.md5(str2hash.encode())\n",
    "t2 = datetime.now()\n",
    "\n",
    "print(\"The hexadecimal equivalent hash is: \",end=\"\")\n",
    "print(result.hexdigest())\n",
    "print(\"time taken by MD5: \",t2-t1)"
   ]
  },
  {
   "cell_type": "code",
   "execution_count": 3,
   "metadata": {},
   "outputs": [
    {
     "name": "stdout",
     "output_type": "stream",
     "text": [
      "The hexadecimal equivalent hash is: c3fcd3d76192e4007dfb496cca67e13b\n",
      "time taken by MD5:  0:00:00\n"
     ]
    }
   ],
   "source": [
    " # MD5 Test String: abcdefghijklmnopqrstuvwxyz\n",
    " \n",
    "\n",
    "str2hash = \"abcdefghijklmnopqrstuvwxyz\"\n",
    "t1 = datetime.now()\n",
    "\n",
    "result = hashlib.md5(str2hash.encode())\n",
    "t2 = datetime.now()\n",
    "\n",
    "print(\"The hexadecimal equivalent hash is: \",end=\"\")\n",
    "print(result.hexdigest())\n",
    "print(\"time taken by MD5: \",t2-t1)"
   ]
  },
  {
   "cell_type": "code",
   "execution_count": 4,
   "metadata": {},
   "outputs": [
    {
     "name": "stdout",
     "output_type": "stream",
     "text": [
      "The hexadecimal equivalent hash is: f96b697d7cb7938d525a2f31aaf161d0\n",
      "time taken by MD5:  0:00:00\n"
     ]
    }
   ],
   "source": [
    " # MD5 Test String: message digest\n",
    " \n",
    "\n",
    "str2hash = \"message digest\"\n",
    "t1 = datetime.now()\n",
    "\n",
    "result = hashlib.md5(str2hash.encode())\n",
    "t2 = datetime.now()\n",
    "\n",
    "print(\"The hexadecimal equivalent hash is: \",end=\"\")\n",
    "print(result.hexdigest())\n",
    "print(\"time taken by MD5: \",t2-t1)"
   ]
  },
  {
   "cell_type": "markdown",
   "metadata": {},
   "source": [
    "# SHA-1"
   ]
  },
  {
   "cell_type": "code",
   "execution_count": 5,
   "metadata": {},
   "outputs": [
    {
     "name": "stdout",
     "output_type": "stream",
     "text": [
      "The hexadecimal equivalent hash is: 01b307acba4f54f55aafc33bb06bbbf6ca803e9a\n",
      "time taken by SHA-1:  0:00:00.001001\n"
     ]
    }
   ],
   "source": [
    "# MD5 Test String: 1234567890\n",
    "\n",
    "str2hash = \"1234567890\"\n",
    "t1 = datetime.now()\n",
    "\n",
    "result = hashlib.sha1(str2hash.encode())\n",
    "t2 = datetime.now()\n",
    "\n",
    "print(\"The hexadecimal equivalent hash is: \",end=\"\")\n",
    "print(result.hexdigest())\n",
    "print(\"time taken by SHA-1: \",t2-t1)"
   ]
  },
  {
   "cell_type": "code",
   "execution_count": 6,
   "metadata": {},
   "outputs": [
    {
     "name": "stdout",
     "output_type": "stream",
     "text": [
      "The hexadecimal equivalent hash is: 32d10c7b8cf96570ca04ce37f2a19d84240d3a89\n",
      "time taken by SHA-1:  0:00:00\n"
     ]
    }
   ],
   "source": [
    "# SHA-1 Test String: abcdefghijklmnopqrstuvwxyz\n",
    "\n",
    "str2hash = \"abcdefghijklmnopqrstuvwxyz\"\n",
    "t1 = datetime.now()\n",
    "\n",
    "result = hashlib.sha1(str2hash.encode())\n",
    "t2 = datetime.now()\n",
    "\n",
    "print(\"The hexadecimal equivalent hash is: \",end=\"\")\n",
    "print(result.hexdigest())\n",
    "print(\"time taken by SHA-1: \",t2-t1)"
   ]
  },
  {
   "cell_type": "code",
   "execution_count": 7,
   "metadata": {},
   "outputs": [
    {
     "name": "stdout",
     "output_type": "stream",
     "text": [
      "The hexadecimal equivalent hash is: c12252ceda8be8994d5fa0290a47231c1d16aae3\n",
      "time taken by SHA-1:  0:00:00\n"
     ]
    }
   ],
   "source": [
    " # SHA-1 Test String: message digest\n",
    " \n",
    "\n",
    "str2hash = \"message digest\"\n",
    "t1 = datetime.now()\n",
    "\n",
    "result = hashlib.sha1(str2hash.encode())\n",
    "t2 = datetime.now()\n",
    "\n",
    "print(\"The hexadecimal equivalent hash is: \",end=\"\")\n",
    "print(result.hexdigest())\n",
    "print(\"time taken by SHA-1: \",t2-t1)"
   ]
  },
  {
   "cell_type": "code",
   "execution_count": 8,
   "metadata": {},
   "outputs": [
    {
     "name": "stdout",
     "output_type": "stream",
     "text": [
      "Calculating hash for 1KB file...\n",
      "MD5 hash time:  0.008292 seconds\n",
      "SHA1 hash time:  0.000000 seconds\n",
      "\n",
      "Calculating hash for 5KB file...\n",
      "MD5 hash time:  0.001011 seconds\n",
      "SHA1 hash time:  0.000000 seconds\n",
      "\n",
      "Calculating hash for 10KB file...\n",
      "MD5 hash time:  0.001112 seconds\n",
      "SHA1 hash time:  0.000000 seconds\n",
      "\n"
     ]
    }
   ],
   "source": [
    "# time comparison between MD5 and SHA1\n",
    "\n",
    "import hashlib\n",
    "import time\n",
    "\n",
    "def calculate_hash_md5(file_path):\n",
    "    with open(file_path, 'rb') as f:\n",
    "        md5_hash = hashlib.md5()\n",
    "        while chunk := f.read(4096):\n",
    "            md5_hash.update(chunk)\n",
    "    return md5_hash.hexdigest()\n",
    "\n",
    "def calculate_hash_sha1(file_path):\n",
    "    with open(file_path, 'rb') as f:\n",
    "        sha1_hash = hashlib.sha1()\n",
    "        while chunk := f.read(4096):\n",
    "            sha1_hash.update(chunk)\n",
    "    return sha1_hash.hexdigest()\n",
    "\n",
    "def measure_time(file_path, algorithm):\n",
    "    start_time = time.time()\n",
    "    if algorithm == 'md5':\n",
    "        calculate_hash_md5(file_path)\n",
    "    elif algorithm == 'sha1':\n",
    "        calculate_hash_sha1(file_path)\n",
    "    end_time = time.time()\n",
    "    return end_time - start_time\n",
    "\n",
    "file_sizes = {'1KB': '1kb.txt','5KB': '5kb.txt','10KB': '10kb.txt'}\n",
    "\n",
    "for size, file_name in file_sizes.items():\n",
    "    print(f\"Calculating hash for {size} file...\")\n",
    "    md5_time = measure_time(file_name,'md5')\n",
    "    sha1_time = measure_time(file_name, 'sha1')\n",
    "    \n",
    "    print(f\"MD5 hash time: {md5_time: .6f} seconds\")\n",
    "    print(f\"SHA1 hash time: {sha1_time: .6f} seconds\")\n",
    "    print()"
   ]
  },
  {
   "cell_type": "code",
   "execution_count": null,
   "metadata": {},
   "outputs": [],
   "source": []
  }
 ],
 "metadata": {
  "kernelspec": {
   "display_name": "Python 3 (ipykernel)",
   "language": "python",
   "name": "python3"
  },
  "language_info": {
   "codemirror_mode": {
    "name": "ipython",
    "version": 3
   },
   "file_extension": ".py",
   "mimetype": "text/x-python",
   "name": "python",
   "nbconvert_exporter": "python",
   "pygments_lexer": "ipython3",
   "version": "3.11.4"
  }
 },
 "nbformat": 4,
 "nbformat_minor": 2
}
