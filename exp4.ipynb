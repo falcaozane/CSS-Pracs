{
 "cells": [
  {
   "cell_type": "code",
   "execution_count": 265,
   "metadata": {},
   "outputs": [
    {
     "name": "stdout",
     "output_type": "stream",
     "text": [
      "Public Key: (3127, 245)\n",
      "Private Key: (3127, 357)\n",
      "Encrypted (ciphertext): [2101, 794]\n",
      "Decrypted (plaintext): [104, 105]\n"
     ]
    }
   ],
   "source": [
    "import random\n",
    "\n",
    "def gcd(a, b):\n",
    "    while b != 0:\n",
    "        a, b = b, a % b\n",
    "    return a\n",
    "\n",
    "def extended_gcd(a, b):\n",
    "    if a == 0:\n",
    "        return (b, 0, 1)\n",
    "    else:\n",
    "        gcd, x, y = extended_gcd(b % a, a)\n",
    "        return (gcd, y - (b // a) * x, x)\n",
    "\n",
    "def generate_keypair(p, q):\n",
    "    n = p * q\n",
    "    phi = (p - 1) * (q - 1)\n",
    "    \n",
    "    # Choose e such that e is coprime with phi and 1 < e < phi\n",
    "    e = random.randint(2, phi - 1)\n",
    "    while gcd(e, phi) != 1:\n",
    "        e = random.randint(2, phi - 1)\n",
    "    \n",
    "    # Compute d, the modular inverse of e\n",
    "    d = pow(e, -1, phi)\n",
    "    \n",
    "    return ((n, e), (n, d))\n",
    "\n",
    "def encrypt(public_key, plaintext):\n",
    "    n, e = public_key\n",
    "    cipher = [(ord(char) ** e) % n for char in plaintext]\n",
    "    return cipher\n",
    "\n",
    "def decrypt(private_key, ciphertext):\n",
    "    n, d = private_key\n",
    "    plain = [(char ** d) % n for char in ciphertext]\n",
    "    return plain\n",
    "\n",
    "# Example usage\n",
    "if __name__ == \"__main__\":\n",
    "    # Generate prime numbers p and q\n",
    "    p = 53\n",
    "    q = 59\n",
    "    \n",
    "    # Generate key pair\n",
    "    public_key, private_key = generate_keypair(p, q)\n",
    "    print(\"Public Key:\", public_key)\n",
    "    print(\"Private Key:\", private_key)\n",
    "    \n",
    "    # Encrypt message\n",
    "    plaintext = \"hi\"\n",
    "    ciphertext = encrypt(public_key, plaintext)\n",
    "    print(\"Encrypted (ciphertext):\", ciphertext)\n",
    "    \n",
    "    # Decrypt message\n",
    "    decrypted_text = decrypt(private_key, ciphertext)\n",
    "    print(\"Decrypted (plaintext):\", decrypted_text)\n"
   ]
  }
 ],
 "metadata": {
  "kernelspec": {
   "display_name": "Python 3",
   "language": "python",
   "name": "python3"
  },
  "language_info": {
   "codemirror_mode": {
    "name": "ipython",
    "version": 3
   },
   "file_extension": ".py",
   "mimetype": "text/x-python",
   "name": "python",
   "nbconvert_exporter": "python",
   "pygments_lexer": "ipython3",
   "version": "3.11.5"
  }
 },
 "nbformat": 4,
 "nbformat_minor": 2
}
